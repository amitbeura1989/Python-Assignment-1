{
 "cells": [
  {
   "cell_type": "markdown",
   "metadata": {},
   "source": [
    "### (Q1.1) Write a Python Program(with class concepts) to find the area of the triangle using the below formula.\n",
    "### area = (s*(s-a)*(s-b)*(s-c)) ** 0.5\n",
    "### Function to take the length of the sides of triangle from user should be defined in the parent class and function to calculate the area should be defined in subclass."
   ]
  },
  {
   "cell_type": "code",
   "execution_count": 5,
   "metadata": {},
   "outputs": [
    {
     "name": "stdout",
     "output_type": "stream",
     "text": [
      "Enter the value of a = 5\n",
      "Enter the value of b = 6\n",
      "Enter the value of c = 6\n",
      "area of trianle : 13.635890143294644\n"
     ]
    }
   ],
   "source": [
    "class Triangle:\n",
    "    def __init__(self,a,b,c):\n",
    "        self.a = float(a)\n",
    "        self.b = float(b)\n",
    "        self.c = float(c)\n",
    "    def area(self):\n",
    "        s=(self.a + self.b + self.c)/2\n",
    "        return((s*(s-self.a)*(s-self.b)*(s-self.c))**0.5)\n",
    "a=input(\"Enter the value of a = \")\n",
    "b=input(\"Enter the value of b = \")\n",
    "c=input(\"Enter the value of c = \")\n",
    "triangle = Triangle(a, b, c)\n",
    "print(\"area of trianle : {}\".format(triangle.area()))"
   ]
  },
  {
   "cell_type": "markdown",
   "metadata": {},
   "source": [
    "### (Q 1.2)  Write a function filter_long_words() that takes a list of words and an integer n and returns the list of words that are longer than n."
   ]
  },
  {
   "cell_type": "code",
   "execution_count": 10,
   "metadata": {},
   "outputs": [
    {
     "name": "stdout",
     "output_type": "stream",
     "text": [
      "['LONGRANGER', 'CRISTIANO', 'ALESANDRODELPIERO']\n"
     ]
    }
   ],
   "source": [
    "def filter_long_words(List,Integer):\n",
    " \n",
    "    Words = []\n",
    " \n",
    "    for i in range(len(List)):\n",
    "        if len(List[i]) > Integer:\n",
    "                Words.append(List[i])\n",
    " \n",
    "    return Words\n",
    " \n",
    "X = ['QUIT','LONGRANGER','JOVIC','MUVI','CRISTIANO','MESSI','BUFFON','ALESANDRODELPIERO']\n",
    "Y = 7\n",
    " \n",
    "print (str(filter_long_words(X,Y)))"
   ]
  },
  {
   "cell_type": "markdown",
   "metadata": {},
   "source": [
    "### (Q 2.1) Write a Python program using function concept that maps list of words into a list of integers representing the lengths of the corresponding words.\n",
    "### Hint: If a list [ ab,cde,erty] is passed on to the python function output should come as [2,3,4]\n",
    "### Here 2,3 and 4 are the lengths of the words in the list."
   ]
  },
  {
   "cell_type": "code",
   "execution_count": 15,
   "metadata": {},
   "outputs": [
    {
     "name": "stdout",
     "output_type": "stream",
     "text": [
      "[5, 7, 4, 6, 9]\n"
     ]
    }
   ],
   "source": [
    "a = [\"Messi\", \"Ronaldo\", \"MUVi\", \"Santos\", \"Tendulkar\"]\n",
    "def Lengthofword(a):\n",
    "    return list(map(lambda x: len(x), a))\n",
    "print (str(Lengthofword(a)))\n"
   ]
  },
  {
   "cell_type": "markdown",
   "metadata": {},
   "source": [
    "### (Q2.2) Write a Python function which takes a character (i.e. a string of length 1) and returns True if it is a vowel, False otherwise."
   ]
  },
  {
   "cell_type": "code",
   "execution_count": 20,
   "metadata": {},
   "outputs": [
    {
     "name": "stdout",
     "output_type": "stream",
     "text": [
      "Enter character: e\n",
      "e is a vowel.\n"
     ]
    }
   ],
   "source": [
    "def Checkvowel(char):\n",
    "    if(char == 'a' or char == 'e' or char == 'i' or char == 'o' or char == 'u'):\n",
    "        return True\n",
    "    else:\n",
    "        return False\n",
    "char = input(\"Enter character: \");\n",
    "if (char.isalpha() == False):\n",
    "        exit();\n",
    "if (Checkvowel(char)):\n",
    "        print(char, \"is a vowel.\");\n",
    "else:\n",
    "        print(char, \"is not a vowel.\"); \n"
   ]
  }
 ],
 "metadata": {
  "kernelspec": {
   "display_name": "Python 3",
   "language": "python",
   "name": "python3"
  },
  "language_info": {
   "codemirror_mode": {
    "name": "ipython",
    "version": 3
   },
   "file_extension": ".py",
   "mimetype": "text/x-python",
   "name": "python",
   "nbconvert_exporter": "python",
   "pygments_lexer": "ipython3",
   "version": "3.7.3"
  }
 },
 "nbformat": 4,
 "nbformat_minor": 2
}
