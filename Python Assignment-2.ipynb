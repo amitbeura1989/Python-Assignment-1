{
 "cells": [
  {
   "cell_type": "markdown",
   "metadata": {},
   "source": [
    "# (Q1) Create the Below pattern using Nested for loop in Python\n",
    "<p> *<br/>\n",
    "    **<br/>\n",
    "    ***<br/>\n",
    "    ****<br/>\n",
    "    *****<br/>\n",
    "    ****<br/>\n",
    "    ***<br/>\n",
    "    **<br/>\n",
    "    *<br/>\n"
   ]
  },
  {
   "cell_type": "code",
   "execution_count": 8,
   "metadata": {},
   "outputs": [
    {
     "name": "stdout",
     "output_type": "stream",
     "text": [
      "\n",
      "* \n",
      "* * \n",
      "* * * \n",
      "* * * * \n",
      "* * * * * \n",
      "* * * * \n",
      "* * * \n",
      "* * \n",
      "* \n"
     ]
    }
   ],
   "source": [
    "n=5;\n",
    "for i in range(n):\n",
    "    for j in range (i):\n",
    "        print('*',end=\" \")\n",
    "    print('')\n",
    "for i in range(n,0,-1):\n",
    "    for j in range (i):\n",
    "        print('*',end=\" \")\n",
    "    print('')"
   ]
  },
  {
   "cell_type": "markdown",
   "metadata": {},
   "source": [
    "# (Q2) Write a python program to reverse a word after accepting the input from user. "
   ]
  },
  {
   "cell_type": "code",
   "execution_count": 12,
   "metadata": {},
   "outputs": [
    {
     "name": "stdout",
     "output_type": "stream",
     "text": [
      "input word:Ineuron\n",
      "noruenI\n"
     ]
    }
   ],
   "source": [
    "text = input(\"input word:\")\n",
    "def reverse(text):\n",
    "    a = \"\"\n",
    "    for i in range(1, len(text) + 1):\n",
    "        a += text[len(text) - i]\n",
    "    return a\n",
    "\n",
    "print(reverse(text))"
   ]
  },
  {
   "cell_type": "code",
   "execution_count": 14,
   "metadata": {},
   "outputs": [
    {
     "name": "stdout",
     "output_type": "stream",
     "text": [
      "Input a word:Ineuron\n",
      "noruenI"
     ]
    }
   ],
   "source": [
    "a = input ('Input a word:')\n",
    "for i in range(len(a)-1,-1,-1):\n",
    "    print(a[i],end=\"\")"
   ]
  },
  {
   "cell_type": "code",
   "execution_count": 15,
   "metadata": {},
   "outputs": [
    {
     "name": "stdout",
     "output_type": "stream",
     "text": [
      "Input a word:Ineuron\n",
      "noruenI\n"
     ]
    }
   ],
   "source": [
    "a = input ('Input a word:')\n",
    "print(a[::-1])"
   ]
  },
  {
   "cell_type": "code",
   "execution_count": null,
   "metadata": {},
   "outputs": [],
   "source": []
  }
 ],
 "metadata": {
  "kernelspec": {
   "display_name": "Python 3",
   "language": "python",
   "name": "python3"
  },
  "language_info": {
   "codemirror_mode": {
    "name": "ipython",
    "version": 3
   },
   "file_extension": ".py",
   "mimetype": "text/x-python",
   "name": "python",
   "nbconvert_exporter": "python",
   "pygments_lexer": "ipython3",
   "version": "3.7.3"
  }
 },
 "nbformat": 4,
 "nbformat_minor": 2
}
